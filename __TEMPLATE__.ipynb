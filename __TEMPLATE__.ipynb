{
 "cells": [
  {
   "cell_type": "code",
   "execution_count": 1,
   "id": "e44af221-ed07-4a0a-82d1-2a5e07707ba6",
   "metadata": {},
   "outputs": [
    {
     "name": "stderr",
     "output_type": "stream",
     "text": [
      "\u001b[2m↱ /home/runner/workspace/apps/bfDb/classes/BfCurrentViewer.ts:195\u001b[22m\n",
      "\u001b[2m\u001b[22m\u001b[33mWARN\u001b[39m: Creating Logged in user: undefined\n"
     ]
    }
   ],
   "source": [
    "import {\n",
    "  BfCurrentViewer,\n",
    "} from \"apps/bfDb/classes/BfCurrentViewer.ts\";\n",
    "const cv = BfCurrentViewer.__DANGEROUS_USE_IN_SCRIPTS_ONLY__createLoggedIn({}, \"jupyter\", \"jupyter\")"
   ]
  },
  {
   "cell_type": "code",
   "execution_count": null,
   "id": "71350789-c49d-40cc-aae9-646c3874adc3",
   "metadata": {},
   "outputs": [],
   "source": []
  }
 ],
 "metadata": {
  "kernelspec": {
   "display_name": "Deno",
   "language": "typescript",
   "name": "deno"
  },
  "language_info": {
   "codemirror_mode": "typescript",
   "file_extension": ".ts",
   "mimetype": "text/x.typescript",
   "name": "typescript",
   "nbconvert_exporter": "script",
   "pygments_lexer": "typescript",
   "version": "5.7.3"
  }
 },
 "nbformat": 4,
 "nbformat_minor": 5
}
