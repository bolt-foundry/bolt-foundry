{
 "cells": [
  {
   "cell_type": "markdown",
   "id": "c4e3b963-8d23-4cb8-9dfc-b3324f129f14",
   "metadata": {},
   "source": [
    "---\n",
    "title: \"BfContentItem Implementation Plan\"\n",
    "author: \"Content Foundry Team\"\n",
    "summary: \"A plan for implementing BfContentItem as a standalone model\"\n",
    "cta: \"Review Plan\"\n",
    "---\n",
    "\n",
    "# BfContentItem Implementation Plan\n",
    "\n",
    "## Current State\n",
    "\n",
    "Currently, `BfContentItem` exists only as a props interface and GraphQL type\n",
    "definition. Content items are stored as properties within the\n",
    "`BfContentCollection` model rather than as individual database entities. This\n",
    "makes it difficult to:\n",
    "\n",
    "1. Query content items directly\n",
    "2. Establish relationships between content items and other entities\n",
    "3. Track revisions and changes to individual content items\n",
    "4. Implement proper access control at the item level\n",
    "\n",
    "## Implementation Goals\n",
    "\n",
    "1. Create a proper `BfContentItem` model extending `BfNodeBase`\n",
    "2. Establish a relationship between collections and items using edges\n",
    "3. Update GraphQL resolvers to use the new model\n",
    "4. Update the UI components to work with the new model\n",
    "5. Migrate existing content items to the new structure\n",
    "\n",
    "## Technical Design\n",
    "\n",
    "### 1. Model Definition\n",
    "\n",
    "Create a new file `packages/bfDb/models/BfContentItem.ts`:"
   ]
  },
  {
   "cell_type": "code",
   "execution_count": 1,
   "id": "0dc5544b-c3ec-4ac9-8cc0-16cb85cf80e4",
   "metadata": {},
   "outputs": [
    {
     "ename": "ReferenceError",
     "evalue": "BfNodeBase is not defined",
     "output_type": "error",
     "traceback": [
      "Stack trace:",
      "ReferenceError: BfNodeBase is not defined",
      "    at <anonymous>:1:50"
     ]
    }
   ],
   "source": [
    "export interface BfContentItemProps extends BfNodeBaseProps {\n",
    "  title: string;\n",
    "  body: string;\n",
    "  slug: string;\n",
    "  filePath?: string;\n",
    "  summary?: string;\n",
    "  author?: string;\n",
    "  cta?: string;\n",
    "  href?: string;\n",
    "}\n",
    "\n",
    "class BfContentItem extends BfNodeBase<BfContentItemProps> {\n",
    "  // Implementation details\n",
    "}"
   ]
  },
  {
   "cell_type": "code",
   "execution_count": 2,
   "id": "8fa215d4-75d7-46d6-8230-5839ffafbac0",
   "metadata": {},
   "outputs": [
    {
     "ename": "Expected ident at file:///repl.tsx:1:2\n\n  ### 2. Collection to Item Relationship\n   ~",
     "evalue": "Expected ident at file:///repl.tsx:1:2\n\n  ### 2. Collection to Item Relationship\n   ~",
     "output_type": "error",
     "traceback": []
    }
   ],
   "source": [
    "### 2. Collection to Item Relationship\n",
    "\n",
    "Create a simple edge relationship between collections and items:"
   ]
  },
  {
   "cell_type": "code",
   "execution_count": 3,
   "id": "31576c9a-9955-4d05-b3f5-7605f6e6c51b",
   "metadata": {},
   "outputs": [
    {
     "ename": "Expected '=>', got '(' at file:///repl.tsx:2:14\n\n  async addItem(cv: BfCurrentViewer, item: BfContentItem): Promise<BfEdge> {\n               ~",
     "evalue": "Expected '=>', got '(' at file:///repl.tsx:2:14\n\n  async addItem(cv: BfCurrentViewer, item: BfContentItem): Promise<BfEdge> {\n               ~",
     "output_type": "error",
     "traceback": []
    }
   ],
   "source": [
    "// In BfContentCollection.ts\n",
    "async addItem(cv: BfCurrentViewer, item: BfContentItem): Promise<BfEdge> {\n",
    "  return BfEdge.createBetweenNodes(cv, this, item);\n",
    "}\n",
    "\n",
    "async getItems(cv: BfCurrentViewer): Promise<BfContentItem[]> {\n",
    "  const edges = await BfEdge.queryTargetInstances(\n",
    "    cv,\n",
    "    BfContentItem,\n",
    "    this.metadata.bfGid\n",
    "  );\n",
    "  \n",
    "  return edges;\n",
    "}"
   ]
  },
  {
   "cell_type": "markdown",
   "id": "1f23bd6b-97d8-445b-b527-e02838125d8c",
   "metadata": {},
   "source": [
    "With this approach, we're using the standard edge functionality without specifying custom roles. This simplifies the implementation while still maintaining the relationship between collections and items.\n",
    "\n",
    "### 3. GraphQL Schema Updates\n",
    "\n",
    "Update GraphQL types to reflect the new model:"
   ]
  },
  {
   "cell_type": "code",
   "execution_count": 4,
   "id": "d3bc113b-3e9e-4115-8489-93eb2f3ad7dc",
   "metadata": {},
   "outputs": [
    {
     "ename": "ReferenceError",
     "evalue": "objectType is not defined",
     "output_type": "error",
     "traceback": [
      "Stack trace:",
      "ReferenceError: objectType is not defined",
      "    at <anonymous>:2:40"
     ]
    }
   ],
   "source": [
    "// Update resolvers to use the new relationship\n",
    "export const graphqlBfContentCollectionType = objectType({\n",
    "  name: \"BfContentCollection\",\n",
    "  definition(t) {\n",
    "    t.implements(graphqlBfNode);\n",
    "    t.string(\"title\");\n",
    "    t.string(\"description\");\n",
    "    t.list.field(\"items\", {\n",
    "      type: \"BfContentItem\",\n",
    "      resolve: async (parent, _args, ctx) => {\n",
    "        const collection = await ctx.findX(\n",
    "          BfContentCollection,\n",
    "          toBfGid(parent.id),\n",
    "        );\n",
    "\n",
    "        // Use the new relationship method\n",
    "        const items = await collection.getItems(ctx.cv);\n",
    "        return items.map((item) => item.toGraphql());\n",
    "      },\n",
    "    });\n",
    "  },\n",
    "});"
   ]
  },
  {
   "cell_type": "markdown",
   "id": "ed68bf7e-f0c9-47f3-81c0-7be73becd1b3",
   "metadata": {},
   "source": [
    "### 4. Migration Strategy\n",
    "\n",
    "1. **Implementation Phase**:\n",
    "   - Create the new model and tests\n",
    "   - Update GraphQL resolvers\n",
    "   - Update UI components\n",
    "\n",
    "2. **Data Migration**:\n",
    "   - Create a migration script to convert existing content\n",
    "   - For each collection, create item nodes and establish edges\n",
    "   - Validate the migration with tests\n",
    "\n",
    "3. **Rollout**:\n",
    "   - Update the content scanning logic to create proper nodes\n",
    "   - Switch to the new implementation in the GraphQL layer\n",
    "   - Update the UI to use the new structure\n",
    "\n",
    "## Implementation Plan\n",
    "\n",
    "### Phase 1: Core Model (Week 1)\n",
    "\n",
    "- [ ] Create BfContentItem model\n",
    "- [ ] Implement basic operations (create, find, save)\n",
    "- [ ] Write tests for the model\n",
    "- [ ] Update BfContentCollection to use relationships\n",
    "\n",
    "### Phase 2: GraphQL Layer (Week 1-2)\n",
    "\n",
    "- [ ] Update GraphQL types and resolvers\n",
    "- [ ] Implement mutations for content items if needed\n",
    "- [ ] Test GraphQL operations\n",
    "\n",
    "### Phase 3: UI Components (Week 2)\n",
    "\n",
    "- [ ] Update ContentItem.tsx component\n",
    "- [ ] Update ContentCollection.tsx component\n",
    "- [ ] Test UI with the new model\n",
    "\n",
    "### Phase 4: Migration (Week 3)\n",
    "\n",
    "- [ ] Create migration script\n",
    "- [ ] Test migration with sample data\n",
    "- [ ] Run migration on development data\n",
    "- [ ] Validate the migration results\n",
    "\n",
    "## Technical Challenges\n",
    "\n",
    "1. **Backward Compatibility**: Ensure the API remains compatible during\n",
    "   transition\n",
    "2. **Performance**: Monitor query performance after switching to edge-based\n",
    "   relationships\n",
    "3. **Data Integrity**: Ensure no content is lost during migration\n",
    "\n",
    "## Success Criteria\n",
    "\n",
    "1. All content items are stored as individual nodes\n",
    "2. Collections reference items via edges\n",
    "3. UI functions correctly with the new model\n",
    "4. No data loss during migration\n",
    "5. Performance is equal or better than the previous implementation\n",
    "\n",
    "## Next Steps\n",
    "\n",
    "1. Set up detailed tasks in the backlog\n",
    "2. Assign implementation owners\n",
    "3. Schedule migration windows\n",
    "4. Create a rollback plan if needed"
   ]
  },
  {
   "cell_type": "code",
   "execution_count": 5,
   "id": "e44af221-ed07-4a0a-82d1-2a5e07707ba6",
   "metadata": {},
   "outputs": [
    {
     "name": "stderr",
     "output_type": "stream",
     "text": [
      "\u001b[2m↱ /home/runner/workspace/packages/bfDb/classes/BfCurrentViewer.ts:195\u001b[22m\n",
      "\u001b[2m\u001b[22m\u001b[33mWARN\u001b[39m: Creating Logged in user: undefined\n"
     ]
    }
   ],
   "source": [
    "import {\n",
    "  BfCurrentViewer,\n",
    "} from \"packages/bfDb/classes/BfCurrentViewer.ts\";\n",
    "const cv = BfCurrentViewer.__DANGEROUS_USE_IN_SCRIPTS_ONLY__createLoggedIn({}, \"jupyter\", \"jupyter\")"
   ]
  },
  {
   "cell_type": "code",
   "execution_count": null,
   "id": "71350789-c49d-40cc-aae9-646c3874adc3",
   "metadata": {},
   "outputs": [],
   "source": []
  }
 ],
 "metadata": {
  "kernelspec": {
   "display_name": "Deno",
   "language": "typescript",
   "name": "deno"
  },
  "language_info": {
   "codemirror_mode": "typescript",
   "file_extension": ".ts",
   "mimetype": "text/x.typescript",
   "name": "typescript",
   "nbconvert_exporter": "script",
   "pygments_lexer": "typescript",
   "version": "5.7.3"
  }
 },
 "nbformat": 4,
 "nbformat_minor": 5
}
