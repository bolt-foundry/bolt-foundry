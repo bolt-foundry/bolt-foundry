
{
 "cells": [
  {
   "cell_type": "markdown",
   "metadata": {},
   "source": [
    "# Tiktoken Bridge Example\n",
    "\n",
    "This notebook demonstrates how to use the Tiktoken bridge implementation in TypeScript."
   ]
  },
  {
   "cell_type": "code",
   "execution_count": null,
   "metadata": {},
   "outputs": [],
   "source": [
    "import { Tiktoken } from '../../../../../lib/tiktoken.ts';\n",
    "\n",
    "// Example text to encode\n",
    "const text = \"Hello, world! This is a test of the tiktoken implementation.\";\n",
    "\n",
    "// Count tokens\n",
    "const tokenCount = Tiktoken.countTokens(text);\n",
    "console.log(`Number of tokens: ${tokenCount}`);"
   ]
  },
  {
   "cell_type": "code",
   "execution_count": null,
   "metadata": {},
   "outputs": [],
   "source": [
    "// Encode text to tokens\n",
    "const tokens = Tiktoken.encode(text);\n",
    "console.log('Encoded tokens:', tokens);"
   ]
  },
  {
   "cell_type": "code",
   "execution_count": null,
   "metadata": {},
   "outputs": [],
   "source": [
    "// Decode tokens back to text\n",
    "const decodedText = Tiktoken.decode(tokens);\n",
    "console.log('Decoded text:', decodedText);\n",
    "console.log('Original and decoded text match:', text === decodedText);"
   ]
  },
  {
   "cell_type": "code",
   "execution_count": null,
   "metadata": {},
   "outputs": [],
   "source": [
    "// Try different encoding\n",
    "const alternativeText = \"Testing different encodings\";\n",
    "const p50kTokens = Tiktoken.encode(alternativeText, 'p50k_base');\n",
    "console.log('P50K encoding:', p50kTokens);"
   ]
  }
 ],
 "metadata": {
  "kernelspec": {
   "display_name": "Deno",
   "language": "typescript",
   "name": "deno"
  },
  "language_info": {
   "file_extension": ".ts",
   "mimetype": "text/x-typescript",
   "name": "typescript",
   "version": "5.2.2"
  }
 },
 "nbformat": 4,
 "nbformat_minor": 4
}
