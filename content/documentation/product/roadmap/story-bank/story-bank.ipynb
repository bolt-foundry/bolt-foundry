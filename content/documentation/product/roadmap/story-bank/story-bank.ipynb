{
 "cells": [
  {
   "cell_type": "code",
   "execution_count": 1,
   "id": "00f174ec-7029-49a8-bed3-baa124e809f3",
   "metadata": {},
   "outputs": [
    {
     "data": {
      "text/plain": [
       "[Function: BfDsButton] {\n",
       "  originalPath: \u001b[32m\"packages/bfDs/components/BfDsButton.tsx\"\u001b[39m\n",
       "}"
      ]
     },
     "execution_count": 1,
     "metadata": {},
     "output_type": "execute_result"
    }
   ],
   "source": [
    "import {React, importReactComponentForJupyter} from \"infra/jupyter/utils.ts\"\n",
    "const { BfDsButton } = await importReactComponentForJupyter(\"packages/bfDs/components/BfDsButton.tsx\")\n",
    "BfDsButton"
   ]
  },
  {
   "cell_type": "code",
   "execution_count": 2,
   "id": "5badb130-2f55-4020-980c-d6d7c204a0d6",
   "metadata": {},
   "outputs": [
    {
     "name": "stdout",
     "output_type": "stream",
     "text": [
      "\u001b[2m↱ /home/runner/workspace/infra/appBuild/appBuild.ts:202\u001b[22m\n",
      "\u001b[2m\u001b[22m\u001b[34mINFO\u001b[39m: Building...\n",
      "\u001b[2m↱ /home/runner/workspace/infra/appBuild/appBuild.ts:210\u001b[22m\n",
      "\u001b[2m\u001b[22m\u001b[34mINFO\u001b[39m: Building complete!!!\n"
     ]
    },
    {
     "name": "stderr",
     "output_type": "stream",
     "text": [
      "\u001b[2m↱ /home/runner/workspace/infra/jupyter/utils.ts:68\u001b[22m\n",
      "\u001b[2m\u001b[22m\u001b[31mERROR\u001b[39m: Error in Jupyter display: TypeError: Cannot read properties of null (reading 'FB_DOMAIN_AUTH_ID')\n",
      "    at BaseComponent (file:///home/runner/workspace/infra/jupyter/BaseComponent.tsx:70:35)\n",
      "    at Object.react-stack-bottom-frame (file:///home/runner/workspace/node_modules/.deno/react-dom@19.0.0/node_modules/react-dom/cjs/react-dom-server-legacy.browser.development.js:8524:18)\n",
      "    at renderWithHooks (file:///home/runner/workspace/node_modules/.deno/react-dom@19.0.0/node_modules/react-dom/cjs/react-dom-server-legacy.browser.development.js:4524:19)\n",
      "    at renderElement (file:///home/runner/workspace/node_modules/.deno/react-dom@19.0.0/node_modules/react-dom/cjs/react-dom-server-legacy.browser.development.js:4959:23)\n",
      "    at retryNode (file:///home/runner/workspace/node_modules/.deno/react-dom@19.0.0/node_modules/react-dom/cjs/react-dom-server-legacy.browser.development.js:5613:22)\n",
      "    at performWork (file:///home/runner/workspace/node_modules/.deno/react-dom@19.0.0/node_modules/react-dom/cjs/react-dom-server-legacy.browser.development.js:6416:19)\n",
      "    at startWork (file:///home/runner/workspace/node_modules/.deno/react-dom@19.0.0/node_modules/react-dom/cjs/react-dom-server-legacy.browser.development.js:7027:7)\n",
      "    at renderToStringImpl (file:///home/runner/workspace/node_modules/.deno/react-dom@19.0.0/node_modules/react-dom/cjs/react-dom-server-legacy.browser.development.js:7111:7)\n",
      "    at Module.process.env.NODE_ENV.exports.renderToStaticMarkup (file:///home/runner/workspace/node_modules/.deno/react-dom@19.0.0/node_modules/react-dom/cjs/react-dom-server-legacy.browser.development.js:8558:14)\n",
      "    at Object.[Jupyter.display] (file:///home/runner/workspace/infra/jupyter/utils.ts:58:37)\n"
     ]
    },
    {
     "data": {
      "text/plain": [
       "Error: Cannot read properties of null (reading 'FB_DOMAIN_AUTH_ID')"
      ]
     },
     "execution_count": 2,
     "metadata": {},
     "output_type": "execute_result"
    }
   ],
   "source": [
    "<BfDsButton />"
   ]
  }
 ],
 "metadata": {
  "kernelspec": {
   "display_name": "Deno",
   "language": "typescript",
   "name": "deno"
  },
  "language_info": {
   "codemirror_mode": "typescript",
   "file_extension": ".ts",
   "mimetype": "text/x.typescript",
   "name": "typescript",
   "nbconvert_exporter": "script",
   "pygments_lexer": "typescript",
   "version": "5.6.2"
  }
 },
 "nbformat": 4,
 "nbformat_minor": 5
}
