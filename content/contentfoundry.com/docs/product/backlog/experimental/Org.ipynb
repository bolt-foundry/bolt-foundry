{
 "cells": [
  {
   "cell_type": "code",
   "execution_count": 2,
   "id": "e44af221-ed07-4a0a-82d1-2a5e07707ba6",
   "metadata": {},
   "outputs": [
    {
     "data": {
      "text/plain": [
       "BfCurrentViewerLoggedIn {\n",
       "  creator: {},\n",
       "  bfGid: \u001b[32m\"b8d30acf9c85485192bfda4c00267238\"\u001b[39m,\n",
       "  bfOid: \u001b[32m\"justinn\"\u001b[39m,\n",
       "  __typename: \u001b[32m\"BfCurrentViewerLoggedIn\"\u001b[39m\n",
       "}"
      ]
     },
     "execution_count": 2,
     "metadata": {},
     "output_type": "execute_result"
    }
   ],
   "source": [
    "import { BfOrganization } from \"packages/bfDb/models/BfOrganization.ts\";\n",
    "import { BfPerson } from \"packages/bfDb/models/BfPerson.ts\";\n",
    "import { BfCurrentViewer } from \"packages/bfDb/classes/BfCurrentViewer.ts\";\n",
    "\n",
    "const id = \"b8d30acf9c85485192bfda4c00267238\";\n",
    "\n",
    "const cv = await BfCurrentViewer.__DANGEROUS__createFromBfGid({}, id, \"justinn\")\n",
    "cv"
   ]
  },
  {
   "cell_type": "code",
   "execution_count": 3,
   "id": "e49c6558-9b95-4ad7-9d9e-f2e81676ab35",
   "metadata": {},
   "outputs": [],
   "source": [
    "const person = await BfPerson.findX(cv, id)\n",
    "// const org = await person.createTargetNode(BfOrganization, {});\n",
    "// org"
   ]
  },
  {
   "cell_type": "code",
   "execution_count": 4,
   "id": "9f14eaa4-c0ea-4ba3-9eb1-c0d67267135a",
   "metadata": {},
   "outputs": [
    {
     "data": {
      "text/plain": [
       "BfOrganization {\n",
       "  _currentViewer: BfCurrentViewerLoggedIn {\n",
       "    creator: {},\n",
       "    bfGid: \u001b[32m\"b8d30acf9c85485192bfda4c00267238\"\u001b[39m,\n",
       "    bfOid: \u001b[32m\"justinn\"\u001b[39m,\n",
       "    __typename: \u001b[32m\"BfCurrentViewerLoggedIn\"\u001b[39m\n",
       "  },\n",
       "  _props: {\n",
       "    identity: {\n",
       "      voice: {\n",
       "        voice: \u001b[32m\"Justin, known as @justicart on Twitter, has a voice that is both creative and professional, reflecting his background as a cofounder of Bolt Foundry and an Emmy Award-winning motion graphics designer. His tweets often engage with topics related to technology, design, and innovation, showcasing his expertise and passion in these fields. With a follower count of 99 and a history of 1,270 tweets, Justin maintains an engaging presence that resonates with a niche audience interested in the intersection of technology and creativity. His voice can be compared to influential tech and design figures on Twitter, such as John Maeda, who also blends technology with creative insights, though Justin's audience is more intimate and focused. His tweets are likely to include thoughtful commentary and insights drawn from his professional experiences at companies like Meta and Vidpresso, making his Twitter presence both informative and inspiring for those in the tech and design communities. [twitter.com](https://twitter.com/justicart)\"\u001b[39m,\n",
       "        voiceSummary: \u001b[32m\"creative, professional, engaging, insightful, innovative\"\u001b[39m\n",
       "      },\n",
       "      twitter: { handle: \u001b[32m\"justicart\"\u001b[39m }\n",
       "    }\n",
       "  },\n",
       "  __typename: \u001b[32m\"BfOrganization\"\u001b[39m,\n",
       "  _metadata: {\n",
       "    bfGid: \u001b[32m\"1526874860774e4fb612258ed8092ab7\"\u001b[39m,\n",
       "    bfOid: \u001b[32m\"justinn\"\u001b[39m,\n",
       "    bfCid: \u001b[32m\"b8d30acf9c85485192bfda4c00267238\"\u001b[39m,\n",
       "    className: \u001b[32m\"BfOrganization\"\u001b[39m,\n",
       "    createdAt: \u001b[35m2025-02-21T18:50:54.936Z\u001b[39m,\n",
       "    lastUpdated: \u001b[35m2025-02-21T20:28:07.385Z\u001b[39m,\n",
       "    sortValue: \u001b[32m\"1740163854936\"\u001b[39m,\n",
       "    bfSid: \u001b[1mnull\u001b[22m,\n",
       "    bfTid: \u001b[1mnull\u001b[22m,\n",
       "    bfTClassName: \u001b[1mnull\u001b[22m,\n",
       "    bfSClassName: \u001b[1mnull\u001b[22m\n",
       "  },\n",
       "  _serverProps: {\n",
       "    identity: {\n",
       "      voice: {\n",
       "        voice: \u001b[32m\"Justin, known as @justicart on Twitter, has a voice that is both creative and professional, reflecting his background as a cofounder of Bolt Foundry and an Emmy Award-winning motion graphics designer. His tweets often engage with topics related to technology, design, and innovation, showcasing his expertise and passion in these fields. With a follower count of 99 and a history of 1,270 tweets, Justin maintains an engaging presence that resonates with a niche audience interested in the intersection of technology and creativity. His voice can be compared to influential tech and design figures on Twitter, such as John Maeda, who also blends technology with creative insights, though Justin's audience is more intimate and focused. His tweets are likely to include thoughtful commentary and insights drawn from his professional experiences at companies like Meta and Vidpresso, making his Twitter presence both informative and inspiring for those in the tech and design communities. [twitter.com](https://twitter.com/justicart)\"\u001b[39m,\n",
       "        voiceSummary: \u001b[32m\"creative, professional, engaging, insightful, innovative\"\u001b[39m\n",
       "      },\n",
       "      twitter: { handle: \u001b[32m\"justicart\"\u001b[39m }\n",
       "    }\n",
       "  },\n",
       "  _clientProps: {}\n",
       "}"
      ]
     },
     "execution_count": 4,
     "metadata": {},
     "output_type": "execute_result"
    }
   ],
   "source": [
    "const orgId = \"1526874860774e4fb612258ed8092ab7\";\n",
    "const org = await BfOrganization.findX(cv, orgId)\n",
    "// NO QUERY :(\n",
    "org"
   ]
  },
  {
   "cell_type": "code",
   "execution_count": null,
   "id": "15244837-4eea-4ad4-9377-50aa47a15ad5",
   "metadata": {},
   "outputs": [],
   "source": []
  }
 ],
 "metadata": {
  "kernelspec": {
   "display_name": "Deno",
   "language": "typescript",
   "name": "deno"
  },
  "language_info": {
   "codemirror_mode": "typescript",
   "file_extension": ".ts",
   "mimetype": "text/x.typescript",
   "name": "typescript",
   "nbconvert_exporter": "script",
   "pygments_lexer": "typescript",
   "version": "5.6.2"
  }
 },
 "nbformat": 4,
 "nbformat_minor": 5
}
